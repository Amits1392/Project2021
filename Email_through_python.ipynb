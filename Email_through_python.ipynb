{
 "cells": [
  {
   "cell_type": "code",
   "execution_count": 1,
   "id": "20d4fc02",
   "metadata": {},
   "outputs": [
    {
     "ename": "SyntaxError",
     "evalue": "invalid character in identifier (<ipython-input-1-3500bacb6de6>, line 7)",
     "output_type": "error",
     "traceback": [
      "\u001b[1;36m  File \u001b[1;32m\"<ipython-input-1-3500bacb6de6>\"\u001b[1;36m, line \u001b[1;32m7\u001b[0m\n\u001b[1;33m    with open(filename, ‘r’, encoding=’utf-8') as template_file:\u001b[0m\n\u001b[1;37m                          ^\u001b[0m\n\u001b[1;31mSyntaxError\u001b[0m\u001b[1;31m:\u001b[0m invalid character in identifier\n"
     ]
    }
   ],
   "source": [
    "import smtplib\n",
    "import csv\n",
    "from string import Template\n",
    "from email.mime.multipart import MIMEMultipart\n",
    "from email.mime.text import MIMEText\n",
    "def read_template(filename):\n",
    "    with open(filename, ‘r’, encoding=’utf-8') as template_file:\n",
    "    template_file_content = template_file.read()\n",
    "    return Template(template_file_content)\n",
    "def main():\n",
    "    message_template = read_template(‘template.txt’)\n",
    "MY_ADDRESS = ‘**********@gmail.com’\n",
    "PASSWORD = ‘*************’\n",
    "# set up the SMTP server\n",
    "s = smtplib.SMTP(host=’smtp.gmail.com’, port=587)\n",
    " s.starttls()\n",
    " s.login(MY_ADDRESS, PASSWORD)\n",
    " \n",
    " with open(“details.csv”, “r”) as csv_file:\n",
    "  csv_reader = csv.reader(csv_file, delimiter=’,’)\n",
    "  # the below statement will skip the first row\n",
    "  next(csv_reader)\n",
    "  for lines in csv_reader:\n",
    "   msg = MIMEMultipart() # create a message\n",
    "# add in the actual person name to the message template\n",
    "    message =    message_template.substitute(PERSON_NAME=row[0],MATH=row[2],\n",
    "    ENG=row[3],SCI=row[4])\n",
    "   print(message)\n",
    "# setup the parameters of the message\n",
    "   msg[‘From’]=MY_ADDRESS\n",
    "   msg[‘To’]=lines[1]\n",
    "   msg[‘Subject’]=”Mid term grades”\n",
    "# add in the message body\n",
    "   msg.attach(MIMEText(message, ‘plain’))\n",
    "# send the message via the server set up earlier.\n",
    "   s.send_message(msg)\n",
    "   del msg\n",
    " \n",
    " # Terminate the SMTP session and close the connection\n",
    " s.quit()\n",
    "if __name__ == ‘__main__’:\n",
    " main()"
   ]
  },
  {
   "cell_type": "code",
   "execution_count": 2,
   "id": "9c25a84d",
   "metadata": {},
   "outputs": [
    {
     "ename": "SyntaxError",
     "evalue": "invalid syntax (<ipython-input-2-4307e1954c2c>, line 1)",
     "output_type": "error",
     "traceback": [
      "\u001b[1;36m  File \u001b[1;32m\"<ipython-input-2-4307e1954c2c>\"\u001b[1;36m, line \u001b[1;32m1\u001b[0m\n\u001b[1;33m    <!DOCTYPE html>\u001b[0m\n\u001b[1;37m    ^\u001b[0m\n\u001b[1;31mSyntaxError\u001b[0m\u001b[1;31m:\u001b[0m invalid syntax\n"
     ]
    }
   ],
   "source": [
    "<!DOCTYPE html>\n",
    "<html>\n",
    "<head>\n",
    "    <meta charset=\"utf-8\">\n",
    "    <meta name=\"viewport\" content=\"width=device-width, initial-scale=1, shrink-to-fit=no\">\n",
    "    <link rel=\"stylesheet\" href=\"https://maxcdn.bootstrapcdn.com/bootstrap/4.3.1/css/bootstrap.min.css\">\n",
    "    <link rel=\"stylesheet\" href=\"/static/style.css\">\n",
    "    <script src=\"https://ajax.googleapis.com/ajax/libs/jquery/3.2.1/jquery.min.js\"></script>\n",
    "</head>\n",
    "<body>\n",
    "    <h1 class=\"jumbotron text-center\">AI Chatbot with Python</h1>\n",
    "<div class=\"container\">\n",
    "    <div class=\"row\">\n",
    "        <div class=\"col-sm-6 offset-sm-3\">\n",
    "            <div id=\"chatbox\" class=\"border border-success\">\n",
    "                <p class=\"botText\"><span>Hi! I'm Chatterbot</span></p>\n",
    "            </div>\n",
    "            <div id=\"userInput\">\n",
    "                <input id=\"textInput\" class=\"form-control\" type=\"text\" name=\"msg\" placeholder=\"Type Your Message Here\">\n",
    "                <input id=\"buttonInput\" class=\"btn btn-success form-control\" type=\"submit\" value=\"Send\">\n",
    "            </div>\n",
    "        </div>\n",
    "    </div>\n",
    "\n",
    "<script>\n",
    "    function getResponse() {\n",
    "        let userText = $(\"#textInput\").val();\n",
    "        let userHtml = '<p class=\"userText\"><span>' + userText + '</span></p>';\n",
    "        $(\"#textInput\").val(\"\");\n",
    "        $(\"#chatbox\").append(userHtml);\n",
    "        document.getElementById('userInput').scrollIntoView({block: 'start', behavior: 'smooth'});\n",
    "        $.get(\"/get\", { msg: userText }).done(function(data) {\n",
    "        var botHtml = '<p class=\"botText\"><span>' + data + '</span></p>';\n",
    "        $(\"#chatbox\").append(botHtml);\n",
    "        document.getElementById('userInput').scrollIntoView({block: 'start', behavior: 'smooth'});\n",
    "});\n",
    "}\n",
    "    $(\"#textInput\").keypress(function(e) {\n",
    "    //if enter key is pressed\n",
    "        if(e.which == 13) {\n",
    "            getResponse();\n",
    "        }\n",
    "    });\n",
    "    $(\"#buttonInput\").click(function() {\n",
    "        getResponse();\n",
    "    });\n",
    "    </script>\n",
    "    <script src=\"https://ajax.googleapis.com/ajax/libs/jquery/3.4.1/jquery.min.js\"></script>\n",
    "    <script src=\"https://cdnjs.cloudflare.com/ajax/libs/popper.js/1.14.7/umd/popper.min.js\"></script>\n",
    "    <script src=\"https://maxcdn.bootstrapcdn.com/bootstrap/4.3.1/js/bootstrap.min.js\"></script>\n",
    "</div>\n",
    "</body>\n",
    "</html>"
   ]
  },
  {
   "cell_type": "code",
   "execution_count": null,
   "id": "49935e03",
   "metadata": {},
   "outputs": [],
   "source": []
  }
 ],
 "metadata": {
  "kernelspec": {
   "display_name": "Python 3",
   "language": "python",
   "name": "python3"
  },
  "language_info": {
   "codemirror_mode": {
    "name": "ipython",
    "version": 3
   },
   "file_extension": ".py",
   "mimetype": "text/x-python",
   "name": "python",
   "nbconvert_exporter": "python",
   "pygments_lexer": "ipython3",
   "version": "3.8.8"
  }
 },
 "nbformat": 4,
 "nbformat_minor": 5
}
