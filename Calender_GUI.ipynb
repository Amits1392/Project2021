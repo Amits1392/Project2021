{
 "cells": [
  {
   "cell_type": "code",
   "execution_count": 3,
   "id": "a9d5e76b",
   "metadata": {},
   "outputs": [],
   "source": [
    "#Importing tkinter module\n",
    "from tkinter import *\n",
    "#importing calendar module\n",
    "import calendar\n",
    "from sys import exit\n",
    "\n",
    "#function to show calendar of the given year\n",
    "def showCalender():\n",
    "    gui = Tk()\n",
    "    gui.config(background='grey')\n",
    "    gui.title(\"Calender for the year\")\n",
    "    gui.geometry(\"550x600\")\n",
    "    year = int(year_field.get())\n",
    "    gui_content= calendar.calendar(year)\n",
    "    calYear = Label(gui, text= gui_content, font= \"Consolas 10 bold\")\n",
    "    calYear.grid(row=5, column=1,padx=20)\n",
    "    gui.mainloop()"
   ]
  },
  {
   "cell_type": "code",
   "execution_count": 10,
   "id": "2fa80ed0",
   "metadata": {},
   "outputs": [],
   "source": [
    "#Driver code\n",
    "if __name__=='__main__':\n",
    "    new = Tk()\n",
    "    new.config(background='red')\n",
    "    new.title(\"Calender\")\n",
    "    new.geometry(\"250x140\")\n",
    "    cal = Label(new, text=\"Your Birth Year Calender\",bg='green',font=(\"times\", 28, \"bold\"))\n",
    "    year = Label(new, text=\"Enter Your birth  year\", bg='blue')\n",
    "    year_field=Entry(new)\n",
    "    button = Button(new, text='Show Calender',\n",
    "fg='Black',bg='Blue',command=showCalender)\n",
    "\n",
    "    #putting widgets in position\n",
    "    cal.grid(row=1, column=1)\n",
    "    year.grid(row=2, column=1)\n",
    "    year_field.grid(row=3, column=1)\n",
    "    button.grid(row=4, column=1)\n",
    "#     Exit.grid(row=6, column=1)\n",
    "    new.mainloop()\n"
   ]
  },
  {
   "cell_type": "code",
   "execution_count": null,
   "id": "19ebc8a0",
   "metadata": {},
   "outputs": [],
   "source": []
  },
  {
   "cell_type": "code",
   "execution_count": 11,
   "id": "426caae9",
   "metadata": {},
   "outputs": [],
   "source": []
  },
  {
   "cell_type": "code",
   "execution_count": null,
   "id": "15118ff9",
   "metadata": {},
   "outputs": [],
   "source": []
  }
 ],
 "metadata": {
  "kernelspec": {
   "display_name": "Python 3",
   "language": "python",
   "name": "python3"
  },
  "language_info": {
   "codemirror_mode": {
    "name": "ipython",
    "version": 3
   },
   "file_extension": ".py",
   "mimetype": "text/x-python",
   "name": "python",
   "nbconvert_exporter": "python",
   "pygments_lexer": "ipython3",
   "version": "3.8.8"
  }
 },
 "nbformat": 4,
 "nbformat_minor": 5
}
