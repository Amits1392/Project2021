{
 "cells": [
  {
   "cell_type": "code",
   "execution_count": 1,
   "id": "7d95596b",
   "metadata": {},
   "outputs": [],
   "source": [
    "import random"
   ]
  },
  {
   "cell_type": "code",
   "execution_count": 9,
   "id": "f3640f78",
   "metadata": {},
   "outputs": [
    {
     "name": "stdout",
     "output_type": "stream",
     "text": [
      "Enter Passowrd Length : 15\n",
      "***********************************\n",
      "pHGl4(VoRCQmw0q\n"
     ]
    }
   ],
   "source": [
    "#Enter length of password do you want\n",
    "Password_len = int(input(\"Enter Passowrd Length : \"))\n",
    "# Password That Character Contain\n",
    "char = \"abcdefghijklmnopqrstuvwxyz01234567890ABCDEFGHIJKLMNOPQRSTUVWXYZ!@#$%^&*()?\"\n",
    "\n",
    "#Select Password Though Rondom Method\n",
    "Password = \"\".join(random.sample(char,Password_len))\n",
    "\n",
    "# print Password \n",
    "print(\"***********************************\")\n",
    "print(Password)"
   ]
  },
  {
   "cell_type": "code",
   "execution_count": null,
   "id": "df4af925",
   "metadata": {},
   "outputs": [],
   "source": []
  }
 ],
 "metadata": {
  "kernelspec": {
   "display_name": "Python 3",
   "language": "python",
   "name": "python3"
  },
  "language_info": {
   "codemirror_mode": {
    "name": "ipython",
    "version": 3
   },
   "file_extension": ".py",
   "mimetype": "text/x-python",
   "name": "python",
   "nbconvert_exporter": "python",
   "pygments_lexer": "ipython3",
   "version": "3.8.8"
  }
 },
 "nbformat": 4,
 "nbformat_minor": 5
}
