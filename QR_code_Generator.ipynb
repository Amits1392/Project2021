{
 "cells": [
  {
   "cell_type": "code",
   "execution_count": 1,
   "id": "bae8bb00",
   "metadata": {},
   "outputs": [],
   "source": [
    "# pip install pypng"
   ]
  },
  {
   "cell_type": "code",
   "execution_count": 2,
   "id": "361c0733",
   "metadata": {},
   "outputs": [],
   "source": [
    "# pip install pyqrcode"
   ]
  },
  {
   "cell_type": "code",
   "execution_count": 3,
   "id": "5111387b",
   "metadata": {},
   "outputs": [],
   "source": [
    "import pyqrcode"
   ]
  },
  {
   "cell_type": "code",
   "execution_count": 6,
   "id": "2b51c6c8",
   "metadata": {},
   "outputs": [],
   "source": [
    "url =\"https://www.youtube.com/channel/UC-PypqiHrLXMy0xS1pa_y4w\"\n",
    "QR_Code = pyqrcode.create(url)\n",
    "QR_Code.png('MY_channel_QR_code.png',scale= 10)"
   ]
  },
  {
   "cell_type": "code",
   "execution_count": null,
   "id": "8554610a",
   "metadata": {},
   "outputs": [],
   "source": []
  },
  {
   "cell_type": "code",
   "execution_count": null,
   "id": "24dd6e25",
   "metadata": {},
   "outputs": [],
   "source": []
  }
 ],
 "metadata": {
  "kernelspec": {
   "display_name": "Python 3",
   "language": "python",
   "name": "python3"
  },
  "language_info": {
   "codemirror_mode": {
    "name": "ipython",
    "version": 3
   },
   "file_extension": ".py",
   "mimetype": "text/x-python",
   "name": "python",
   "nbconvert_exporter": "python",
   "pygments_lexer": "ipython3",
   "version": "3.8.8"
  }
 },
 "nbformat": 4,
 "nbformat_minor": 5
}
