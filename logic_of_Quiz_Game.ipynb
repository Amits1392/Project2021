{
 "cells": [
  {
   "cell_type": "code",
   "execution_count": 2,
   "id": "0820d65d",
   "metadata": {},
   "outputs": [
    {
     "name": "stdout",
     "output_type": "stream",
     "text": [
      "Guess the Animal\n",
      "Which bear lives at the North Pole? (polar bear,Cheetah,Blue Whale) w\n",
      "Sorry Wrong Answer, try againw\n",
      "Sorry Wrong Answer, try again\n",
      "The Correct answer is  polar bear\n",
      "Which is the fastest land animal? (polar bear,Cheetah,Blue Whale) w\n",
      "Sorry Wrong Answer, try againw\n",
      "Sorry Wrong Answer, try againw\n",
      "The Correct answer is  Cheetah\n",
      "Which is the larget animal?  (polar bear,Cheetah,Blue Whale)w\n",
      "Sorry Wrong Answer, try againw\n",
      "Sorry Wrong Answer, try againw\n",
      "The Correct answer is  Blue Whale\n",
      "Your Score is 0\n"
     ]
    }
   ],
   "source": [
    "def check_guess(guess, answer):\n",
    "    global score\n",
    "    still_guessing = True\n",
    "    attempt = 0\n",
    "    while still_guessing and attempt < 3:\n",
    "        if guess.lower() == answer.lower():\n",
    "            print(\"Correct Answer\")\n",
    "            score = score + 1\n",
    "            still_guessing = False\n",
    "        else:\n",
    "            if attempt < 2:\n",
    "                guess = input(\"Sorry Wrong Answer, try again\")\n",
    "            attempt = attempt + 1\n",
    "    if attempt == 3:\n",
    "        print(\"The Correct answer is \",answer )\n",
    "    \n",
    "score = 0\n",
    "print(\"Guess the Animal\")\n",
    "guess1 = input(\"Which bear lives at the North Pole? (polar bear,Cheetah,Blue Whale) \")\n",
    "check_guess(guess1, \"polar bear\")\n",
    "guess2 = input(\"Which is the fastest land animal? (polar bear,Cheetah,Blue Whale) \")\n",
    "check_guess(guess2, \"Cheetah\")\n",
    "guess3 = input(\"Which is the larget animal?  (polar bear,Cheetah,Blue Whale)\")\n",
    "check_guess(guess3, \"Blue Whale\")\n",
    "print(\"Your Score is \"+ str(score))"
   ]
  },
  {
   "cell_type": "code",
   "execution_count": null,
   "id": "256a3009",
   "metadata": {},
   "outputs": [],
   "source": []
  }
 ],
 "metadata": {
  "kernelspec": {
   "display_name": "Python 3",
   "language": "python",
   "name": "python3"
  },
  "language_info": {
   "codemirror_mode": {
    "name": "ipython",
    "version": 3
   },
   "file_extension": ".py",
   "mimetype": "text/x-python",
   "name": "python",
   "nbconvert_exporter": "python",
   "pygments_lexer": "ipython3",
   "version": "3.8.8"
  }
 },
 "nbformat": 4,
 "nbformat_minor": 5
}
