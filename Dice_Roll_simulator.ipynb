{
 "cells": [
  {
   "cell_type": "code",
   "execution_count": 2,
   "id": "03a43793",
   "metadata": {},
   "outputs": [],
   "source": [
    "import random"
   ]
  },
  {
   "cell_type": "code",
   "execution_count": 7,
   "id": "d1986653",
   "metadata": {},
   "outputs": [
    {
     "name": "stdout",
     "output_type": "stream",
     "text": [
      "Rolling Dices....\n",
      "*****************************\n",
      "Values are ..... =  1\n",
      "#####################################\n",
      "Enter Yes or y  to roll Again. OR Enter any other Key to Exit yes\n",
      "Rolling Dices....\n",
      "*****************************\n",
      "Values are ..... =  2\n",
      "#####################################\n",
      "Enter Yes or y  to roll Again. OR Enter any other Key to Exit y\n",
      "Rolling Dices....\n",
      "*****************************\n",
      "Values are ..... =  4\n",
      "#####################################\n",
      "Enter Yes or y  to roll Again. OR Enter any other Key to Exit Yes\n",
      "Rolling Dices....\n",
      "*****************************\n",
      "Values are ..... =  6\n",
      "#####################################\n",
      "Enter Yes or y  to roll Again. OR Enter any other Key to Exit t\n"
     ]
    }
   ],
   "source": [
    "min_value= 1\n",
    "max_value = 6\n",
    "\n",
    "Roll_again = 'Yes'\n",
    "\n",
    "\n",
    "while Roll_again =='Yes' or Roll_again == 'y'or Roll_again == 'Y' or Roll_again == 'yes':\n",
    "    print(\"Rolling Dices....\")\n",
    "    print('*****************************')\n",
    "    print(\"Values are ..... =  {}\".format(random.randint(min_val,max_val)))\n",
    "    print(\"#####################################\")\n",
    "    Roll_again = input(\"Enter Yes or y  to roll Again. OR Enter any other Key to Exit \")"
   ]
  },
  {
   "cell_type": "code",
   "execution_count": null,
   "id": "4c241efd",
   "metadata": {},
   "outputs": [],
   "source": []
  }
 ],
 "metadata": {
  "kernelspec": {
   "display_name": "Python 3",
   "language": "python",
   "name": "python3"
  },
  "language_info": {
   "codemirror_mode": {
    "name": "ipython",
    "version": 3
   },
   "file_extension": ".py",
   "mimetype": "text/x-python",
   "name": "python",
   "nbconvert_exporter": "python",
   "pygments_lexer": "ipython3",
   "version": "3.8.8"
  }
 },
 "nbformat": 4,
 "nbformat_minor": 5
}
